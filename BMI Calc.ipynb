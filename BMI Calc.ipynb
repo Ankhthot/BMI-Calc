{
 "cells": [
  {
   "cell_type": "code",
   "execution_count": 1,
   "id": "73e2fa90-8ff4-4882-b0af-e294f27a5acf",
   "metadata": {
    "tags": []
   },
   "outputs": [],
   "source": [
    "#BMI Calculator"
   ]
  },
  {
   "cell_type": "code",
   "execution_count": null,
   "id": "7f3d796e-42cd-4ed0-b4f2-b1611387b5b3",
   "metadata": {},
   "outputs": [],
   "source": [
    "#BMI = (weight in punds * 703) / (height in inches * height in inches)"
   ]
  },
  {
   "cell_type": "code",
   "execution_count": null,
   "id": "d30e947f-830c-46cd-87fe-4083008949ce",
   "metadata": {},
   "outputs": [],
   "source": []
  },
  {
   "cell_type": "code",
   "execution_count": 10,
   "id": "e14f1127-8e2c-4d04-8b4f-27172afa2122",
   "metadata": {
    "tags": []
   },
   "outputs": [
    {
     "name": "stdin",
     "output_type": "stream",
     "text": [
      "Enter your weight in pounds:  170\n",
      "Enter your height in inches:  69\n"
     ]
    },
    {
     "name": "stdout",
     "output_type": "stream",
     "text": [
      "25.101869355177485\n"
     ]
    }
   ],
   "source": [
    "weight = int (input (\"Enter your weight in pounds: \"))\n",
    "\n",
    "height = int (input (\"Enter your height in inches: \"))\n",
    "\n",
    "BMI = (weight * 703 ) / (height * height)\n",
    "\n",
    "print (BMI)\n",
    "\n"
   ]
  },
  {
   "cell_type": "code",
   "execution_count": null,
   "id": "cb94fb53-6c81-41e7-9e3c-0356a79207f6",
   "metadata": {},
   "outputs": [],
   "source": []
  },
  {
   "cell_type": "code",
   "execution_count": null,
   "id": "0d39ff02-839e-42fb-ab2c-188fca822ed0",
   "metadata": {},
   "outputs": [],
   "source": []
  }
 ],
 "metadata": {
  "kernelspec": {
   "display_name": "Python 3 (ipykernel)",
   "language": "python",
   "name": "python3"
  },
  "language_info": {
   "codemirror_mode": {
    "name": "ipython",
    "version": 3
   },
   "file_extension": ".py",
   "mimetype": "text/x-python",
   "name": "python",
   "nbconvert_exporter": "python",
   "pygments_lexer": "ipython3",
   "version": "3.11.5"
  }
 },
 "nbformat": 4,
 "nbformat_minor": 5
}
